{
 "cells": [
  {
   "cell_type": "markdown",
   "metadata": {},
   "source": [
    "[idiomatic-python-coding-the-smart-way](https://medium.com/the-andela-way/idiomatic-python-coding-the-smart-way-cc560fa5f1d6)"
   ]
  },
  {
   "cell_type": "markdown",
   "metadata": {},
   "source": [
    "# 1. Chained comparison operators"
   ]
  },
  {
   "cell_type": "code",
   "execution_count": 112,
   "metadata": {},
   "outputs": [
    {
     "name": "stdout",
     "output_type": "stream",
     "text": [
      "Hello\n"
     ]
    }
   ],
   "source": [
    "x = 4\n",
    "# Bad\n",
    "if x >= 3 and x <= 5:\n",
    "    print(\"Hello\")"
   ]
  },
  {
   "cell_type": "code",
   "execution_count": 113,
   "metadata": {},
   "outputs": [
    {
     "name": "stdout",
     "output_type": "stream",
     "text": [
      "Hello\n"
     ]
    }
   ],
   "source": [
    "# Good\n",
    "if 3 <= x <= 5:\n",
    "    print(\"Hello\")"
   ]
  },
  {
   "cell_type": "markdown",
   "metadata": {},
   "source": [
    "# 2. Indentation"
   ]
  },
  {
   "cell_type": "code",
   "execution_count": 114,
   "metadata": {},
   "outputs": [
    {
     "name": "stdout",
     "output_type": "stream",
     "text": [
      "John\n",
      "Kampala\n"
     ]
    }
   ],
   "source": [
    "# Bad\n",
    "name = 'John'; address = 'Kampala'\n",
    "if name: print(name)\n",
    "print(address)"
   ]
  },
  {
   "cell_type": "code",
   "execution_count": 115,
   "metadata": {},
   "outputs": [
    {
     "name": "stdout",
     "output_type": "stream",
     "text": [
      "John\n",
      "Kampala\n"
     ]
    }
   ],
   "source": [
    "# Good\n",
    "name = 'John'\n",
    "address = 'Kampala'\n",
    "if name:\n",
    "  print(name)\n",
    "print(address)"
   ]
  },
  {
   "cell_type": "markdown",
   "metadata": {},
   "source": [
    "# 3. Use the Falsy & Truthy Concepts"
   ]
  },
  {
   "cell_type": "code",
   "execution_count": 116,
   "metadata": {},
   "outputs": [
    {
     "name": "stdout",
     "output_type": "stream",
     "text": [
      "Hello1\n",
      "Hello3\n",
      "Hello4\n"
     ]
    }
   ],
   "source": [
    "# Bad\n",
    "x = True\n",
    "y = 0\n",
    "if x == True:\n",
    "  print(\"Hello1\")\n",
    "elif x == False:\n",
    "  print(\"Hello2\")\n",
    "if y == 0:\n",
    "  print(\"Hello3\")\n",
    "ls = [2, 5]\n",
    "if len(ls) > 0:\n",
    "  print(\"Hello4\")"
   ]
  },
  {
   "cell_type": "code",
   "execution_count": 117,
   "metadata": {},
   "outputs": [
    {
     "name": "stdout",
     "output_type": "stream",
     "text": [
      "Hello1\n",
      "Hello3\n",
      "Hello4\n"
     ]
    }
   ],
   "source": [
    "# Good\n",
    "(x, y) = (True, 0)\n",
    "# x is truthy\n",
    "if x:\n",
    "  print(\"Hello1\")\n",
    "else:\n",
    "  print(\"Hello2\")\n",
    "# y is falsy\n",
    "if not y:\n",
    "  print(\"Hello3\")\n",
    "ls = [2, 5]\n",
    "if ls:\n",
    "  print(\"Hello4\")"
   ]
  },
  {
   "cell_type": "code",
   "execution_count": 118,
   "metadata": {},
   "outputs": [],
   "source": [
    "# 4. Ternary Operator replacement"
   ]
  },
  {
   "cell_type": "code",
   "execution_count": 119,
   "metadata": {},
   "outputs": [
    {
     "name": "stdout",
     "output_type": "stream",
     "text": [
      "1\n"
     ]
    }
   ],
   "source": [
    "# Bad\n",
    "a = True\n",
    "value = 0\n",
    "if a:\n",
    "  value = 1\n",
    "print(value)"
   ]
  },
  {
   "cell_type": "code",
   "execution_count": 120,
   "metadata": {},
   "outputs": [
    {
     "name": "stdout",
     "output_type": "stream",
     "text": [
      "1\n"
     ]
    }
   ],
   "source": [
    "# Good\n",
    "a = True\n",
    "value = 1 if a else 0\n",
    "print(value)"
   ]
  },
  {
   "cell_type": "markdown",
   "metadata": {},
   "source": [
    "# 5. Use the 'in' keyword"
   ]
  },
  {
   "cell_type": "code",
   "execution_count": 121,
   "metadata": {},
   "outputs": [],
   "source": [
    "# Bad\n",
    "city = 'Nairobi'\n",
    "found = False\n",
    "if city == 'Nairobi' or city == 'Kampala' or city == 'Lagos':\n",
    "  found = True"
   ]
  },
  {
   "cell_type": "code",
   "execution_count": 122,
   "metadata": {},
   "outputs": [],
   "source": [
    "# Good\n",
    "city = 'Nairobi'\n",
    "found = city in {'Nairobi', 'Kampala', 'Lagos'}"
   ]
  },
  {
   "cell_type": "code",
   "execution_count": 123,
   "metadata": {},
   "outputs": [
    {
     "name": "stdout",
     "output_type": "stream",
     "text": [
      "Nairobi\n",
      "Kampala\n",
      "Lagos\n"
     ]
    }
   ],
   "source": [
    "# Bad\n",
    "cities = ['Nairobi', 'Kampala', 'Lagos']\n",
    "index = 0\n",
    "while index < len(cities):\n",
    "  print(cities[index])\n",
    "  index += 1"
   ]
  },
  {
   "cell_type": "code",
   "execution_count": 124,
   "metadata": {},
   "outputs": [
    {
     "name": "stdout",
     "output_type": "stream",
     "text": [
      "Nairobi\n",
      "Kampala\n",
      "Lagos\n"
     ]
    }
   ],
   "source": [
    "# Good\n",
    "cities = ['Nairobi', 'Kampala', 'Lagos']\n",
    "for city in cities:\n",
    "  print(city)"
   ]
  },
  {
   "cell_type": "markdown",
   "metadata": {},
   "source": [
    "# 6. Use 'return' to evaluate expressions, in addition to return values"
   ]
  },
  {
   "cell_type": "code",
   "execution_count": 125,
   "metadata": {},
   "outputs": [],
   "source": [
    "# Bad\n",
    "def check_equal(x, y):\n",
    "  result = False\n",
    "  \n",
    "  if x == Y:\n",
    "    result = True\n",
    "  return result"
   ]
  },
  {
   "cell_type": "code",
   "execution_count": 126,
   "metadata": {},
   "outputs": [],
   "source": [
    "# Good\n",
    "def check_equal(x, y):\n",
    "  return x == y"
   ]
  },
  {
   "cell_type": "markdown",
   "metadata": {},
   "source": [
    "# 7. Multiple assignment"
   ]
  },
  {
   "cell_type": "code",
   "execution_count": 127,
   "metadata": {},
   "outputs": [],
   "source": [
    "# Bad\n",
    "x = 'foo'\n",
    "y = 'foo'\n",
    "z = 'foo'"
   ]
  },
  {
   "cell_type": "code",
   "execution_count": 128,
   "metadata": {},
   "outputs": [],
   "source": [
    "# Good\n",
    "x = y = z = 'foo'"
   ]
  },
  {
   "cell_type": "markdown",
   "metadata": {},
   "source": [
    "# 8. Formatting Strings"
   ]
  },
  {
   "cell_type": "code",
   "execution_count": 129,
   "metadata": {},
   "outputs": [],
   "source": [
    "# Bad\n",
    "def user_info(user):\n",
    "  return 'Name: ' + user.name + ' Age: '+ user.age"
   ]
  },
  {
   "cell_type": "code",
   "execution_count": 130,
   "metadata": {},
   "outputs": [],
   "source": [
    "# Good\n",
    "def user_info(user):\n",
    "  return 'Name: {user.name} Age: {user.age}'.format(user=user)"
   ]
  },
  {
   "cell_type": "markdown",
   "metadata": {},
   "source": [
    "# 9. List comprehension"
   ]
  },
  {
   "cell_type": "code",
   "execution_count": 131,
   "metadata": {},
   "outputs": [],
   "source": [
    "# Bad\n",
    "ls = list()\n",
    "for element in range(10):\n",
    "  if not(element % 2):\n",
    "    ls.append(element)\n",
    "# We may also employ a lambda function\n",
    "ls = list(filter(lambda element: not(element % 2), range(10)))"
   ]
  },
  {
   "cell_type": "code",
   "execution_count": 132,
   "metadata": {},
   "outputs": [],
   "source": [
    "# Good\n",
    "ls = [element for element in range(10) if not(element % 2)]"
   ]
  },
  {
   "cell_type": "markdown",
   "metadata": {},
   "source": [
    "# 10. enumerate(list)"
   ]
  },
  {
   "cell_type": "code",
   "execution_count": 133,
   "metadata": {},
   "outputs": [
    {
     "name": "stdout",
     "output_type": "stream",
     "text": [
      "0 0\n",
      "1 1\n",
      "2 2\n",
      "3 3\n",
      "4 4\n",
      "5 5\n",
      "6 6\n",
      "7 7\n",
      "8 8\n",
      "9 9\n"
     ]
    }
   ],
   "source": [
    "# Bad\n",
    "ls = list(range(10))\n",
    "index = 0\n",
    "while index < len(ls):\n",
    "  print(ls[index], index)\n",
    "  index += 1"
   ]
  },
  {
   "cell_type": "code",
   "execution_count": 134,
   "metadata": {},
   "outputs": [
    {
     "name": "stdout",
     "output_type": "stream",
     "text": [
      "0 0\n",
      "1 1\n",
      "2 2\n",
      "3 3\n",
      "4 4\n",
      "5 5\n",
      "6 6\n",
      "7 7\n",
      "8 8\n",
      "9 9\n"
     ]
    }
   ],
   "source": [
    "# Good\n",
    "ls = list(range(10))\n",
    "for index, value in enumerate(ls):\n",
    "  print(value, index)"
   ]
  },
  {
   "cell_type": "markdown",
   "metadata": {},
   "source": [
    "# 11. Dictionary Comprehension"
   ]
  },
  {
   "cell_type": "code",
   "execution_count": 135,
   "metadata": {},
   "outputs": [
    {
     "name": "stdout",
     "output_type": "stream",
     "text": [
      "{'a': 'a@qq.com', 'b': 'b@qq.com'}\n"
     ]
    }
   ],
   "source": [
    "# Bad\n",
    "emails = {}\n",
    "users = [{'name': 'a', 'email':'a@qq.com'}, {'name': 'b', 'email': 'b@qq.com'}]\n",
    "for user in users:\n",
    "    if user['email']:\n",
    "        emails[user['name']] = user['email']\n",
    "print(emails)"
   ]
  },
  {
   "cell_type": "code",
   "execution_count": 136,
   "metadata": {},
   "outputs": [
    {
     "name": "stdout",
     "output_type": "stream",
     "text": [
      "{'a': 'a@qq.com', 'b': 'b@qq.com'}\n"
     ]
    }
   ],
   "source": [
    "# Good\n",
    "users = [{'name': 'a', 'email':'a@qq.com'}, {'name': 'b', 'email': 'b@qq.com'}]\n",
    "emails = {user['name']: user['email'] for user in users if user['email']}\n",
    "print(emails)"
   ]
  },
  {
   "cell_type": "markdown",
   "metadata": {},
   "source": [
    "# 12. Sets"
   ]
  },
  {
   "cell_type": "code",
   "execution_count": 137,
   "metadata": {},
   "outputs": [
    {
     "name": "stdout",
     "output_type": "stream",
     "text": [
      "[4, 5]\n"
     ]
    }
   ],
   "source": [
    "# Bad\n",
    "ls1 = [1, 2, 3, 4, 5]\n",
    "ls2 = [4, 5, 6, 7, 8]\n",
    "elements_in_both = []\n",
    "for element in ls1:\n",
    "  if element in ls2:\n",
    "    elements_in_both.append(element)\n",
    "print(elements_in_both)"
   ]
  },
  {
   "cell_type": "code",
   "execution_count": 138,
   "metadata": {},
   "outputs": [
    {
     "name": "stdout",
     "output_type": "stream",
     "text": [
      "[4, 5]\n"
     ]
    }
   ],
   "source": [
    "# Good\n",
    "ls1 = [1, 2, 3, 4, 5]\n",
    "ls2 = [4, 5, 6, 7, 8]\n",
    "elements_in_both = list( set(ls1) & set(ls2) )\n",
    "print(elements_in_both)"
   ]
  },
  {
   "cell_type": "markdown",
   "metadata": {},
   "source": [
    "# 13. SetComprehension"
   ]
  },
  {
   "cell_type": "code",
   "execution_count": 139,
   "metadata": {},
   "outputs": [
    {
     "name": "stdout",
     "output_type": "stream",
     "text": [
      "{1, 2, 3, 5, 7, 9}\n"
     ]
    }
   ],
   "source": [
    "# Bad\n",
    "elements = [1, 3, 5, 2, 3, 7, 9, 2, 7]\n",
    "unique_elements = set()\n",
    "for element in elements:\n",
    "  unique_elements.add(element)\n",
    "print(unique_elements)"
   ]
  },
  {
   "cell_type": "code",
   "execution_count": 140,
   "metadata": {},
   "outputs": [
    {
     "name": "stdout",
     "output_type": "stream",
     "text": [
      "{1, 2, 3, 5, 7, 9}\n"
     ]
    }
   ],
   "source": [
    "# Good\n",
    "elements = [1, 3, 5, 2, 3, 7, 9, 2, 7]\n",
    "unique_elements = {element for element in elements}\n",
    "print(unique_elements)"
   ]
  },
  {
   "cell_type": "markdown",
   "metadata": {},
   "source": [
    "# 14. Use the default parameter of ‘dict.get’ to provide default values"
   ]
  },
  {
   "cell_type": "code",
   "execution_count": 141,
   "metadata": {},
   "outputs": [
    {
     "name": "stdout",
     "output_type": "stream",
     "text": [
      "Unauthorized\n"
     ]
    }
   ],
   "source": [
    "# Bad\n",
    "auth = None\n",
    "payload = {}\n",
    "if 'auth_token' in payload:\n",
    "  auth = payload['auth_token']\n",
    "else:\n",
    "  auth = 'Unauthorized'\n",
    "print(auth)"
   ]
  },
  {
   "cell_type": "code",
   "execution_count": 142,
   "metadata": {},
   "outputs": [
    {
     "name": "stdout",
     "output_type": "stream",
     "text": [
      "Unauthorized\n"
     ]
    }
   ],
   "source": [
    "# Good\n",
    "payload = {}\n",
    "auth = payload.get('auth_token', 'Unauthorized')\n",
    "print(auth)"
   ]
  },
  {
   "cell_type": "markdown",
   "metadata": {},
   "source": [
    "# 15. Don’t Repeat Yourself (DRY)"
   ]
  },
  {
   "cell_type": "code",
   "execution_count": 143,
   "metadata": {},
   "outputs": [
    {
     "name": "stdout",
     "output_type": "stream",
     "text": [
      "------------------------------\n",
      "{'age': 10}\n",
      "------------------------------\n"
     ]
    }
   ],
   "source": [
    "# Bad\n",
    "user = {'age': 10}\n",
    "if user:\n",
    "  print('------------------------------')\n",
    "  print(user)\n",
    "  print('------------------------------')"
   ]
  },
  {
   "cell_type": "code",
   "execution_count": 144,
   "metadata": {},
   "outputs": [
    {
     "name": "stdout",
     "output_type": "stream",
     "text": [
      "------------------------------\n",
      "{'age': 10}\n",
      "------------------------------\n"
     ]
    }
   ],
   "source": [
    "# Good\n",
    "user = {'age': 10}\n",
    "if user:\n",
    "  print('{0}\\n{1}\\n{0}'.format('-'*30, user))"
   ]
  }
 ],
 "metadata": {
  "kernelspec": {
   "display_name": "Python 3",
   "language": "python",
   "name": "python3"
  },
  "language_info": {
   "codemirror_mode": {
    "name": "ipython",
    "version": 3
   },
   "file_extension": ".py",
   "mimetype": "text/x-python",
   "name": "python",
   "nbconvert_exporter": "python",
   "pygments_lexer": "ipython3",
   "version": "3.6.4"
  }
 },
 "nbformat": 4,
 "nbformat_minor": 2
}
